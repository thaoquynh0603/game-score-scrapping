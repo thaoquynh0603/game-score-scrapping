{
 "cells": [
  {
   "cell_type": "code",
   "execution_count": 119,
   "metadata": {},
   "outputs": [],
   "source": [
    "path = 'Creative-Arcades-6296.pdf'\n",
    "fileobj = open(path,'rb')\n",
    "#install camelot\n",
    "import camelot\n",
    "import pandas as pd\n"
   ]
  },
  {
   "cell_type": "markdown",
   "metadata": {},
   "source": [
    "To correctly extract values of different variables in the pdf file, we need to use the argument called **columns** to specify which is the seperator line of each column. By experimentation, the best value for this argument ís **columns=['100,500']**.\n",
    "\n",
    "However, this argument cannot be used with pages having more than one table. Therefore, we temporarily do not consider pages having more than one table. \n",
    "\n",
    "Room for improvement: Maybe there is some ways to specify columns in each table, so we can scan all pages at the same time without considering which pages have more than one table."
   ]
  },
  {
   "cell_type": "code",
   "execution_count": 120,
   "metadata": {},
   "outputs": [
    {
     "name": "stderr",
     "output_type": "stream",
     "text": [
      "UserWarning: No tables found in table area 1 [stream.py:365]\n"
     ]
    }
   ],
   "source": [
    "#this code is to return a string that specify which pages are chosen to extract, only including pages having one table.\n",
    "string = '1'\n",
    "for i in range(137):\n",
    "    tabs = camelot.read_pdf(path, pages=str(i),flavor='stream')\n",
    "    if len(list(tabs)) > 1:\n",
    "        new = '-' + str(i-1) + ', ' + str(i+1)\n",
    "        string += new\n",
    "string += '-end'"
   ]
  },
  {
   "cell_type": "markdown",
   "metadata": {},
   "source": [
    "Fortunately, there are not too many pages having more than one table. So we still can automatically extract many data."
   ]
  },
  {
   "cell_type": "code",
   "execution_count": 121,
   "metadata": {},
   "outputs": [],
   "source": [
    "tables = camelot.read_pdf(path, pages=string, flavor='stream', columns=['100,150'], split_text=True)"
   ]
  },
  {
   "cell_type": "markdown",
   "metadata": {},
   "source": [
    "Up to this point, we modify the data. Because there is some game title not having any information about type, camilot extracts some table with two columns (without type) and some with three columns (with type). To correctly concenate all tables, we need to specify the structure of the table and modify the data to this structure."
   ]
  },
  {
   "cell_type": "code",
   "execution_count": 122,
   "metadata": {},
   "outputs": [],
   "source": [
    "#identify the structure of the dataset\n",
    "dict = { 'Number': { }, \n",
    "        'Title': { },\n",
    "        'Type': { },}\n",
    "new_df = pd.DataFrame(dict)"
   ]
  },
  {
   "cell_type": "code",
   "execution_count": 123,
   "metadata": {},
   "outputs": [],
   "source": [
    "#the function to modify each table\n",
    "def modify_table(t):\n",
    "    if len(list(t.columns)) == 3:\n",
    "        t.rename(columns={0: 'Number', 1: 'Type', 2: 'Title'}, inplace=True)\n",
    "        t = t[['Number', 'Title', 'Type']]\n",
    "                        \n",
    "    if len(list(t.columns)) == 2: \n",
    "        t.rename(columns={0: 'Number', 1: 'Title'}, inplace=True)   \n",
    "    \n",
    "    return t"
   ]
  },
  {
   "cell_type": "code",
   "execution_count": 124,
   "metadata": {},
   "outputs": [],
   "source": [
    "#Apply the modifying function to each table and concatnate every table.\n",
    "for i in range(len(tables)):\n",
    "        temp_df = tables[i].df\n",
    "        modify_table(temp_df)\n",
    "        new_df = pd.concat([new_df, temp_df], ignore_index=True)                "
   ]
  },
  {
   "cell_type": "code",
   "execution_count": 125,
   "metadata": {},
   "outputs": [
    {
     "data": {
      "text/html": [
       "<div>\n",
       "<style scoped>\n",
       "    .dataframe tbody tr th:only-of-type {\n",
       "        vertical-align: middle;\n",
       "    }\n",
       "\n",
       "    .dataframe tbody tr th {\n",
       "        vertical-align: top;\n",
       "    }\n",
       "\n",
       "    .dataframe thead th {\n",
       "        text-align: right;\n",
       "    }\n",
       "</style>\n",
       "<table border=\"1\" class=\"dataframe\">\n",
       "  <thead>\n",
       "    <tr style=\"text-align: right;\">\n",
       "      <th></th>\n",
       "      <th>Number</th>\n",
       "      <th>Title</th>\n",
       "      <th>Type</th>\n",
       "    </tr>\n",
       "  </thead>\n",
       "  <tbody>\n",
       "    <tr>\n",
       "      <th>0</th>\n",
       "      <td>NO.</td>\n",
       "      <td>English</td>\n",
       "      <td>TYPE</td>\n",
       "    </tr>\n",
       "    <tr>\n",
       "      <th>1</th>\n",
       "      <td>1</td>\n",
       "      <td>Tekken</td>\n",
       "      <td>3D</td>\n",
       "    </tr>\n",
       "    <tr>\n",
       "      <th>2</th>\n",
       "      <td>2</td>\n",
       "      <td>Tekken 2</td>\n",
       "      <td>3D</td>\n",
       "    </tr>\n",
       "    <tr>\n",
       "      <th>3</th>\n",
       "      <td>3</td>\n",
       "      <td>Tekken 3</td>\n",
       "      <td>3D</td>\n",
       "    </tr>\n",
       "    <tr>\n",
       "      <th>4</th>\n",
       "      <td>4</td>\n",
       "      <td>Mortal Kombat</td>\n",
       "      <td>3D</td>\n",
       "    </tr>\n",
       "    <tr>\n",
       "      <th>...</th>\n",
       "      <td>...</td>\n",
       "      <td>...</td>\n",
       "      <td>...</td>\n",
       "    </tr>\n",
       "    <tr>\n",
       "      <th>6154</th>\n",
       "      <td>6292</td>\n",
       "      <td>World Beach Volley</td>\n",
       "      <td></td>\n",
       "    </tr>\n",
       "    <tr>\n",
       "      <th>6155</th>\n",
       "      <td>6293</td>\n",
       "      <td>W-Ring - The Double Rings</td>\n",
       "      <td></td>\n",
       "    </tr>\n",
       "    <tr>\n",
       "      <th>6156</th>\n",
       "      <td>6294</td>\n",
       "      <td>Xevious - Fardraut Saga</td>\n",
       "      <td></td>\n",
       "    </tr>\n",
       "    <tr>\n",
       "      <th>6157</th>\n",
       "      <td>6295</td>\n",
       "      <td>Youkai Douchuuki</td>\n",
       "      <td></td>\n",
       "    </tr>\n",
       "    <tr>\n",
       "      <th>6158</th>\n",
       "      <td>6296</td>\n",
       "      <td>Zipang</td>\n",
       "      <td></td>\n",
       "    </tr>\n",
       "  </tbody>\n",
       "</table>\n",
       "<p>6159 rows × 3 columns</p>\n",
       "</div>"
      ],
      "text/plain": [
       "     Number                      Title  Type\n",
       "0       NO.                    English  TYPE\n",
       "1         1                     Tekken    3D\n",
       "2         2                   Tekken 2    3D\n",
       "3         3                   Tekken 3    3D\n",
       "4         4              Mortal Kombat    3D\n",
       "...     ...                        ...   ...\n",
       "6154   6292         World Beach Volley      \n",
       "6155   6293  W-Ring - The Double Rings      \n",
       "6156   6294    Xevious - Fardraut Saga      \n",
       "6157   6295           Youkai Douchuuki      \n",
       "6158   6296                     Zipang      \n",
       "\n",
       "[6159 rows x 3 columns]"
      ]
     },
     "execution_count": 125,
     "metadata": {},
     "output_type": "execute_result"
    }
   ],
   "source": [
    "new_df"
   ]
  },
  {
   "cell_type": "markdown",
   "metadata": {},
   "source": [
    "At this point, we have extracted 97.84% of the records in the pdf file. However, I want to reach the number of 100%, so I still keep going. From the string variable, we know that pages having more than one table is pages 3, 7 and 22.\n",
    "\n",
    "\n",
    "In coding, I always want to try to make the code reproducible. But in this case, there is only one table in each page and camelot extracts wrongly for some reasons. Because the failure of each page is different and I also do not quite understand the mechanism of Camelot, so I try to handle these pages each by each. \n",
    "\n",
    "Note: This way is only applicable when the number of pages is small (in this case, only 3 pages). I still need to figure out the way to address this in a more systematic way."
   ]
  },
  {
   "cell_type": "code",
   "execution_count": 126,
   "metadata": {},
   "outputs": [
    {
     "name": "stderr",
     "output_type": "stream",
     "text": [
      "UserWarning: No tables found in table area 1 [stream.py:365]\n"
     ]
    }
   ],
   "source": [
    "table = camelot.read_pdf(path, pages='3',flavor='stream')\n",
    "temp_df = table[1].df\n",
    "modify_table(temp_df)\n",
    "new_df = pd.concat([new_df, temp_df], ignore_index=True)      "
   ]
  },
  {
   "cell_type": "code",
   "execution_count": 127,
   "metadata": {},
   "outputs": [],
   "source": [
    "table = camelot.read_pdf(path, pages='7',flavor='stream',split_text=True)\n",
    "temp_df = table[1].df\n",
    "temp_df.loc[temp_df[2].str.contains('1942'),1] = '1942'\n",
    "temp_df[2] = \"\"\n",
    "temp_df.loc[temp_df[1].str.contains('TRACKBALL'),2] = 'TRACKBAll'  \n",
    "temp_df.loc[temp_df[1].str.contains('3/4P'),2] = '3/4P'\n",
    "temp_df[1] = temp_df[1].str.replace('TRACKBALL','')\n",
    "temp_df[1]  = temp_df[1].str.replace('3/4P\\n','')\n",
    "temp_df[1]  = temp_df[1].str.replace('\\n3/4P','')\n",
    "temp_df.rename(columns={0: 'Number', 1: 'Title', 2: 'Type'}, inplace=True)\n",
    "new_df = pd.concat([new_df, temp_df], ignore_index=True)    "
   ]
  },
  {
   "cell_type": "code",
   "execution_count": 128,
   "metadata": {},
   "outputs": [],
   "source": [
    "table = camelot.read_pdf(path, pages='22',flavor='stream',split_text=True)\n",
    "temp_df = table[0].df\n",
    "temp_df.loc[temp_df[1].str.contains('TRACKBALL'),2] = 'TRACKBAll'  \n",
    "temp_df[1] = temp_df[1].str.replace('TRACKBALL','')\n",
    "temp_df.rename(columns={0: 'Number', 1: 'Title', 2: 'Type'}, inplace=True)\n",
    "new_df = pd.concat([new_df, temp_df], ignore_index=True)  "
   ]
  },
  {
   "cell_type": "code",
   "execution_count": 129,
   "metadata": {},
   "outputs": [],
   "source": [
    "new_df.drop(index=new_df.index[0], \n",
    "        axis=0, \n",
    "        inplace=True)"
   ]
  },
  {
   "cell_type": "code",
   "execution_count": 130,
   "metadata": {},
   "outputs": [],
   "source": [
    "new_df['Number'] = pd.to_numeric(new_df['Number'])\n",
    "new_df = new_df.sort_values('Number')\n",
    "new_df.set_index('Number', inplace=True)\n",
    "new_df.to_csv('new_df_final.csv')"
   ]
  }
 ],
 "metadata": {
  "kernelspec": {
   "display_name": "Python 3.9.4 64-bit",
   "language": "python",
   "name": "python3"
  },
  "language_info": {
   "codemirror_mode": {
    "name": "ipython",
    "version": 3
   },
   "file_extension": ".py",
   "mimetype": "text/x-python",
   "name": "python",
   "nbconvert_exporter": "python",
   "pygments_lexer": "ipython3",
   "version": "3.9.4"
  },
  "orig_nbformat": 4,
  "vscode": {
   "interpreter": {
    "hash": "81830785a582968a2110cffe1964d8f451651689538b146dcf69ca503ead1894"
   }
  }
 },
 "nbformat": 4,
 "nbformat_minor": 2
}
